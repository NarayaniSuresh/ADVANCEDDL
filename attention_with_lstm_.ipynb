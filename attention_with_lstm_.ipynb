{
  "cells": [
    {
      "cell_type": "markdown",
      "metadata": {
        "id": "view-in-github",
        "colab_type": "text"
      },
      "source": [
        "<a href=\"https://colab.research.google.com/github/NarayaniSuresh/ADVANCEDDL/blob/main/attention_with_lstm_.ipynb\" target=\"_parent\"><img src=\"https://colab.research.google.com/assets/colab-badge.svg\" alt=\"Open In Colab\"/></a>"
      ]
    },
    {
      "cell_type": "markdown",
      "source": [
        "**SINGLE HEAD AND MULTI HEAD ATTENTION**"
      ],
      "metadata": {
        "id": "Z_hNVTrrgdJz"
      }
    },
    {
      "cell_type": "code",
      "execution_count": null,
      "metadata": {
        "id": "t3da1_OEY_mc"
      },
      "outputs": [],
      "source": [
        "#importing necessary libraries\n",
        "import tensorflow as tf\n",
        "\n",
        "from tensorflow import keras\n",
        "from tensorflow.python.keras import Input\n",
        "from tensorflow.python.keras.layers import Concatenate\n",
        "\n"
      ]
    },
    {
      "cell_type": "code",
      "execution_count": null,
      "metadata": {
        "id": "uCNazd-jaoqR"
      },
      "outputs": [],
      "source": [
        "vocab_size=10000\n",
        "pad_id=0\n",
        "start_id=1\n",
        "oov_id=2\n",
        "index_offset=2"
      ]
    },
    {
      "cell_type": "code",
      "execution_count": null,
      "metadata": {
        "colab": {
          "base_uri": "https://localhost:8080/"
        },
        "id": "6IevFtTyaozx",
        "outputId": "b16936d3-24d7-48cf-a664-efad2b614686"
      },
      "outputs": [
        {
          "output_type": "stream",
          "name": "stdout",
          "text": [
            "Downloading data from https://storage.googleapis.com/tensorflow/tf-keras-datasets/imdb.npz\n",
            "17464789/17464789 [==============================] - 0s 0us/step\n"
          ]
        }
      ],
      "source": [
        "(x_train,y_train),(x_test,y_test)=keras.datasets.imdb.load_data(num_words=vocab_size,start_char=start_id,oov_char=oov_id,index_from=index_offset)"
      ]
    },
    {
      "cell_type": "code",
      "execution_count": null,
      "metadata": {
        "colab": {
          "base_uri": "https://localhost:8080/"
        },
        "id": "ORdpBST9a9mD",
        "outputId": "afb1bf5b-189e-4063-b88e-653a581630d5"
      },
      "outputs": [
        {
          "output_type": "stream",
          "name": "stdout",
          "text": [
            "Downloading data from https://storage.googleapis.com/tensorflow/tf-keras-datasets/imdb_word_index.json\n",
            "1641221/1641221 [==============================] - 0s 0us/step\n"
          ]
        }
      ],
      "source": [
        "word2idx=tf.keras.datasets.imdb.get_word_index()"
      ]
    },
    {
      "cell_type": "code",
      "execution_count": null,
      "metadata": {
        "id": "aaXpsP1GaYkq"
      },
      "outputs": [],
      "source": [
        "idx2word={v+index_offset: k for k, v in word2idx.items()}\n",
        "idx2word[pad_id]='<PAD>'\n",
        "idx2word[start_id]='<START>'\n",
        "idx2word[oov_id]='<OOV>'"
      ]
    },
    {
      "cell_type": "code",
      "execution_count": null,
      "metadata": {
        "id": "K4S8S501cPP_"
      },
      "outputs": [],
      "source": [
        "max_len=200\n",
        "rnn_cell_size=128"
      ]
    },
    {
      "cell_type": "code",
      "execution_count": null,
      "metadata": {
        "id": "VZmjpKKAcbQc"
      },
      "outputs": [],
      "source": [
        "from tensorflow.keras.preprocessing import sequence\n",
        "x_train=sequence.pad_sequences(x_train,maxlen=max_len,padding='post',truncating='post',value=pad_id)\n",
        "x_test=sequence.pad_sequences(x_test,maxlen=max_len,padding='post',truncating='post',value=pad_id)"
      ]
    },
    {
      "cell_type": "code",
      "execution_count": null,
      "metadata": {
        "colab": {
          "base_uri": "https://localhost:8080/"
        },
        "id": "kdSrXsQ-gt-9",
        "outputId": "54ebffc6-d9c0-43c8-8488-9fb629fc697e"
      },
      "outputs": [
        {
          "output_type": "stream",
          "name": "stdout",
          "text": [
            "Collecting keras_self_attention\n",
            "  Downloading keras-self-attention-0.51.0.tar.gz (11 kB)\n",
            "  Preparing metadata (setup.py) ... \u001b[?25l\u001b[?25hdone\n",
            "Requirement already satisfied: numpy in /usr/local/lib/python3.10/dist-packages (from keras_self_attention) (1.25.2)\n",
            "Building wheels for collected packages: keras_self_attention\n",
            "  Building wheel for keras_self_attention (setup.py) ... \u001b[?25l\u001b[?25hdone\n",
            "  Created wheel for keras_self_attention: filename=keras_self_attention-0.51.0-py3-none-any.whl size=18894 sha256=cc1987e7fcf26ade155673ce18d9ec3597399813991c91aa1db3dff8b907429f\n",
            "  Stored in directory: /root/.cache/pip/wheels/b8/f7/24/607b483144fb9c47b4ba2c5fba6b68e54aeee2d5bf6c05302e\n",
            "Successfully built keras_self_attention\n",
            "Installing collected packages: keras_self_attention\n",
            "Successfully installed keras_self_attention-0.51.0\n"
          ]
        }
      ],
      "source": [
        "!pip install keras_self_attention"
      ]
    },
    {
      "cell_type": "code",
      "execution_count": null,
      "metadata": {
        "colab": {
          "base_uri": "https://localhost:8080/"
        },
        "id": "04MBQT6udcdU",
        "outputId": "f7626530-ece4-4bae-9810-5ec77c50fe6e"
      },
      "outputs": [
        {
          "output_type": "stream",
          "name": "stderr",
          "text": [
            "/usr/local/lib/python3.10/dist-packages/keras/src/initializers/initializers.py:120: UserWarning: The initializer GlorotNormal is unseeded and being called multiple times, which will return identical values each time (even if the initializer is unseeded). Please update your code to provide a seed to the initializer, or avoid using the same initializer instance more than once.\n",
            "  warnings.warn(\n"
          ]
        },
        {
          "output_type": "stream",
          "name": "stdout",
          "text": [
            "Model: \"sequential\"\n",
            "_________________________________________________________________\n",
            " Layer (type)                Output Shape              Param #   \n",
            "=================================================================\n",
            " embedding (Embedding)       (None, 200, 100)          1000000   \n",
            "                                                                 \n",
            " bidirectional (Bidirection  (None, 200, 32)           14976     \n",
            " al)                                                             \n",
            "                                                                 \n",
            " seq_self_attention (SeqSel  (None, 200, 32)           2113      \n",
            " fAttention)                                                     \n",
            "                                                                 \n",
            " flatten (Flatten)           (None, 6400)              0         \n",
            "                                                                 \n",
            " dense (Dense)               (None, 1)                 6401      \n",
            "                                                                 \n",
            "=================================================================\n",
            "Total params: 1023490 (3.90 MB)\n",
            "Trainable params: 1023490 (3.90 MB)\n",
            "Non-trainable params: 0 (0.00 Byte)\n",
            "_________________________________________________________________\n"
          ]
        }
      ],
      "source": [
        "from tensorflow.keras.models import Sequential\n",
        "from tensorflow.keras.models import Sequential\n",
        "from tensorflow.keras.layers import Embedding, Bidirectional, LSTM, Dense, Flatten\n",
        "from keras_self_attention import SeqSelfAttention\n",
        "\n",
        "\n",
        "\n",
        "model=Sequential()\n",
        "model.add(Embedding(vocab_size,100,input_length=max_len ))\n",
        "model.add(Bidirectional(LSTM(units=16, return_sequences=True, dropout=0.5, recurrent_dropout=0.7)))\n",
        "model.add(SeqSelfAttention(attention_activation='sigmoid'))\n",
        "model.add(Flatten())\n",
        "model.add(Dense(1, activation='sigmoid'))\n",
        "model.summary()\n",
        "#model.compile(optimizer='adam', loss='binary_crossentropy', metrics=['accuracy'])"
      ]
    },
    {
      "cell_type": "code",
      "execution_count": null,
      "metadata": {
        "colab": {
          "base_uri": "https://localhost:8080/"
        },
        "id": "U_OcdedIg3AJ",
        "outputId": "3021f070-1b6b-450c-8300-599be9c2cc35"
      },
      "outputs": [
        {
          "output_type": "stream",
          "name": "stdout",
          "text": [
            "Epoch 1/2\n",
            "157/157 [==============================] - 478s 3s/step - loss: 0.4238 - accuracy: 0.7974 - val_loss: 0.3266 - val_accuracy: 0.8646\n",
            "Epoch 2/2\n",
            "157/157 [==============================] - 465s 3s/step - loss: 0.2453 - accuracy: 0.9025 - val_loss: 0.3255 - val_accuracy: 0.8678\n"
          ]
        },
        {
          "output_type": "execute_result",
          "data": {
            "text/plain": [
              "<keras.src.callbacks.History at 0x7fbebe5de9b0>"
            ]
          },
          "metadata": {},
          "execution_count": 10
        }
      ],
      "source": [
        "model.compile(optimizer='adam', loss='binary_crossentropy', metrics=['accuracy'])\n",
        "model.fit(x_train,y_train,epochs=2,batch_size=128,validation_split=0.2,verbose=1)"
      ]
    },
    {
      "cell_type": "code",
      "source": [
        "results=model.evaluate(x_test,y_test)\n",
        "`\n",
        "print(results)"
      ],
      "metadata": {
        "colab": {
          "base_uri": "https://localhost:8080/"
        },
        "id": "JsBJ0KNmWdDF",
        "outputId": "767b364a-a56a-4ea3-cd20-309b41aa9835"
      },
      "execution_count": null,
      "outputs": [
        {
          "output_type": "stream",
          "name": "stdout",
          "text": [
            "782/782 [==============================] - 239s 305ms/step - loss: 0.3554 - accuracy: 0.8494\n",
            "[0.35541969537734985, 0.8493599891662598]\n"
          ]
        }
      ]
    },
    {
      "cell_type": "markdown",
      "source": [
        "MULTI HEAD ATTENTION"
      ],
      "metadata": {
        "id": "ejrgxcaqcEjC"
      }
    },
    {
      "cell_type": "code",
      "source": [
        "\n",
        "\n",
        "!pip install keras-multi-head\n",
        "\n",
        "from tensorflow.keras.models import Sequential\n",
        "from tensorflow.keras.layers import Embedding, Bidirectional, LSTM, Dense, Flatten\n",
        "from keras_multi_head import MultiHead"
      ],
      "metadata": {
        "colab": {
          "base_uri": "https://localhost:8080/"
        },
        "id": "O1kiBZE8dObs",
        "outputId": "506ffb0b-e8e3-4344-8d57-e61b3d8e97dc"
      },
      "execution_count": null,
      "outputs": [
        {
          "output_type": "stream",
          "name": "stdout",
          "text": [
            "Collecting keras-multi-head\n",
            "  Downloading keras-multi-head-0.29.0.tar.gz (13 kB)\n",
            "  Preparing metadata (setup.py) ... \u001b[?25l\u001b[?25hdone\n",
            "Requirement already satisfied: keras-self-attention==0.51.0 in /usr/local/lib/python3.10/dist-packages (from keras-multi-head) (0.51.0)\n",
            "Requirement already satisfied: numpy in /usr/local/lib/python3.10/dist-packages (from keras-self-attention==0.51.0->keras-multi-head) (1.25.2)\n",
            "Building wheels for collected packages: keras-multi-head\n",
            "  Building wheel for keras-multi-head (setup.py) ... \u001b[?25l\u001b[?25hdone\n",
            "  Created wheel for keras-multi-head: filename=keras_multi_head-0.29.0-py3-none-any.whl size=14976 sha256=e540d889545539fc3542475eb0e07acd1220fbdffd4b42ef7b394fd6e6760dac\n",
            "  Stored in directory: /root/.cache/pip/wheels/cb/23/4b/06d7ae21714f70fcc25b48f972cc8e5e7f4b6b764a038b509d\n",
            "Successfully built keras-multi-head\n",
            "Installing collected packages: keras-multi-head\n",
            "Successfully installed keras-multi-head-0.29.0\n"
          ]
        }
      ]
    },
    {
      "cell_type": "code",
      "source": [
        "model=Sequential()\n",
        "model.add(Embedding(vocab_size,100,input_length=max_len ))\n",
        "model.add(MultiHead(LSTM(units=32),layer_num=5,name=\"Multi-LSTMS\"))\n",
        "model.add(Flatten())\n",
        "model.add(Dense(1, activation='sigmoid'))\n",
        "model.build()\n",
        "model.summary()\n",
        "model.compile(optimizer='adam', loss='binary_crossentropy', metrics=['accuracy'])"
      ],
      "metadata": {
        "colab": {
          "base_uri": "https://localhost:8080/"
        },
        "id": "aLy8ao3ocKyl",
        "outputId": "573d4485-c594-4983-f203-fcd63cdedf16"
      },
      "execution_count": null,
      "outputs": [
        {
          "output_type": "stream",
          "name": "stdout",
          "text": [
            "Model: \"sequential_4\"\n",
            "_________________________________________________________________\n",
            " Layer (type)                Output Shape              Param #   \n",
            "=================================================================\n",
            " embedding_4 (Embedding)     (None, 200, 100)          1000000   \n",
            "                                                                 \n",
            " Multi-LSTMS (MultiHead)     (None, 32, 5)             85120     \n",
            "                                                                 \n",
            " flatten_2 (Flatten)         (None, 160)               0         \n",
            "                                                                 \n",
            " dense_2 (Dense)             (None, 1)                 161       \n",
            "                                                                 \n",
            "=================================================================\n",
            "Total params: 1085281 (4.14 MB)\n",
            "Trainable params: 1085281 (4.14 MB)\n",
            "Non-trainable params: 0 (0.00 Byte)\n",
            "_________________________________________________________________\n"
          ]
        }
      ]
    },
    {
      "cell_type": "code",
      "source": [
        "model.fit(x_train,y_train,epochs=2,batch_size=128,validation_split=0.2,verbose=1)"
      ],
      "metadata": {
        "colab": {
          "base_uri": "https://localhost:8080/"
        },
        "id": "vHbuMyJIdrSH",
        "outputId": "22c7be45-07df-4b28-9401-79b66fcc02ba"
      },
      "execution_count": null,
      "outputs": [
        {
          "output_type": "stream",
          "name": "stdout",
          "text": [
            "Epoch 1/2\n",
            "157/157 [==============================] - 191s 1s/step - loss: 0.6692 - accuracy: 0.5695 - val_loss: 0.5784 - val_accuracy: 0.7038\n",
            "Epoch 2/2\n",
            "157/157 [==============================] - 181s 1s/step - loss: 0.5428 - accuracy: 0.7355 - val_loss: 0.5629 - val_accuracy: 0.7404\n"
          ]
        },
        {
          "output_type": "execute_result",
          "data": {
            "text/plain": [
              "<keras.src.callbacks.History at 0x7fbeb9b8ee60>"
            ]
          },
          "metadata": {},
          "execution_count": 17
        }
      ]
    },
    {
      "cell_type": "code",
      "source": [
        "results=model.evaluate(x_test,y_test)\n",
        "\n",
        "print(results)"
      ],
      "metadata": {
        "colab": {
          "base_uri": "https://localhost:8080/"
        },
        "id": "GwJeQOF1f8a1",
        "outputId": "4295cded-f822-4601-a118-bb81adfdf4a3"
      },
      "execution_count": null,
      "outputs": [
        {
          "output_type": "stream",
          "name": "stdout",
          "text": [
            "782/782 [==============================] - 72s 93ms/step - loss: 0.5703 - accuracy: 0.7338\n",
            "[0.5702508687973022, 0.7338399887084961]\n"
          ]
        }
      ]
    }
  ],
  "metadata": {
    "colab": {
      "provenance": [],
      "include_colab_link": true
    },
    "kernelspec": {
      "display_name": "Python 3",
      "name": "python3"
    },
    "language_info": {
      "name": "python"
    }
  },
  "nbformat": 4,
  "nbformat_minor": 0
}