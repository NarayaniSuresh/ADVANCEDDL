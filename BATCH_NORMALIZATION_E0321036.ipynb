{
  "cells": [
    {
      "cell_type": "markdown",
      "metadata": {
        "id": "view-in-github",
        "colab_type": "text"
      },
      "source": [
        "<a href=\"https://colab.research.google.com/github/NarayaniSuresh/ADVANCEDDL/blob/main/BATCH_NORMALIZATION_E0321036.ipynb\" target=\"_parent\"><img src=\"https://colab.research.google.com/assets/colab-badge.svg\" alt=\"Open In Colab\"/></a>"
      ]
    },
    {
      "cell_type": "markdown",
      "metadata": {
        "id": "G39WSeeno_hY"
      },
      "source": [
        "# IMPORT LIBRARIES"
      ]
    },
    {
      "cell_type": "code",
      "execution_count": null,
      "metadata": {
        "id": "PtgISO6VpDDe"
      },
      "outputs": [],
      "source": [
        "import numpy as np\n",
        "import matplotlib.pyplot as plt\n",
        "import cv2\n",
        "import matplotlib.pyplot as plt\n",
        "import tensorflow as tf\n",
        "from tensorflow.keras.datasets import mnist\n",
        "from tensorflow.keras.models import Sequential\n",
        "from tensorflow.keras.layers import Conv2D, MaxPooling2D, Flatten, Dense, BatchNormalization, Activation, Dropout\n",
        "from tensorflow.keras.optimizers import Adam\n",
        "from tensorflow.keras.callbacks import EarlyStopping\n",
        "from tensorflow.keras import layers, models, datasets\n",
        "from tensorflow.keras.utils import to_categorical"
      ]
    },
    {
      "cell_type": "markdown",
      "metadata": {
        "id": "wiayd3hWrfmK"
      },
      "source": [
        "# LOAD DATA"
      ]
    },
    {
      "cell_type": "code",
      "execution_count": null,
      "metadata": {
        "colab": {
          "base_uri": "https://localhost:8080/"
        },
        "id": "yDenVKHDpmFi",
        "outputId": "23652bdf-da8c-4297-bb02-0f711f73dc40"
      },
      "outputs": [
        {
          "name": "stdout",
          "output_type": "stream",
          "text": [
            "Downloading data from https://storage.googleapis.com/tensorflow/tf-keras-datasets/mnist.npz\n",
            "11490434/11490434 [==============================] - 0s 0us/step\n"
          ]
        }
      ],
      "source": [
        "(X_train, y_train), (X_test, y_test) = mnist.load_data()"
      ]
    },
    {
      "cell_type": "code",
      "execution_count": null,
      "metadata": {
        "id": "FajdoFqKpto0"
      },
      "outputs": [],
      "source": [
        "X_train = X_train / 255.0\n",
        "X_test = X_test / 255.0"
      ]
    },
    {
      "cell_type": "code",
      "execution_count": null,
      "metadata": {
        "id": "DFBswmxLq1RF"
      },
      "outputs": [],
      "source": [
        "y_train = tf.keras.utils.to_categorical(y_train, 10)\n",
        "y_test = tf.keras.utils.to_categorical(y_test, 10)"
      ]
    },
    {
      "cell_type": "markdown",
      "metadata": {
        "id": "ZIm_MoYhrkZc"
      },
      "source": [
        "# BATCH NORMALISATION - AFTER THE ACTIVATION FUNCTION"
      ]
    },
    {
      "cell_type": "code",
      "execution_count": null,
      "metadata": {
        "id": "sKW8JzN3q_5c"
      },
      "outputs": [],
      "source": [
        "model2= models.Sequential([\n",
        "    layers.Conv2D(32, (3, 3), activation='relu', input_shape=(28, 28, 1)),\n",
        "    layers.BatchNormalization(),\n",
        "    layers.MaxPooling2D((2, 2)),\n",
        "    layers.Conv2D(64, (3, 3), activation='relu'),\n",
        "    layers.BatchNormalization(),\n",
        "    layers.MaxPooling2D((2, 2)),\n",
        "    layers.Conv2D(64, (3, 3), activation='relu'),\n",
        "    layers.BatchNormalization(),\n",
        "    layers.Flatten(),\n",
        "    layers.Dense(64, activation='relu'),\n",
        "    layers.BatchNormalization(),\n",
        "    layers.Dense(10, activation='softmax')\n",
        "])"
      ]
    },
    {
      "cell_type": "code",
      "execution_count": null,
      "metadata": {
        "id": "Vw55-AkHrRpm"
      },
      "outputs": [],
      "source": [
        "model2.compile(optimizer=Adam(),\n",
        "              loss='categorical_crossentropy',\n",
        "              metrics=['accuracy'])"
      ]
    },
    {
      "cell_type": "code",
      "execution_count": null,
      "metadata": {
        "colab": {
          "base_uri": "https://localhost:8080/"
        },
        "id": "aGf5813QgtM9",
        "outputId": "2f0751d0-886c-4d8d-9f2c-6399a59a228b"
      },
      "outputs": [
        {
          "name": "stdout",
          "output_type": "stream",
          "text": [
            "Epoch 1/3\n",
            "469/469 - 74s - loss: 0.1200 - accuracy: 0.9654 - val_loss: 0.4336 - val_accuracy: 0.8552 - 74s/epoch - 157ms/step\n",
            "Epoch 2/3\n",
            "469/469 - 67s - loss: 0.0360 - accuracy: 0.9897 - val_loss: 0.0385 - val_accuracy: 0.9880 - 67s/epoch - 143ms/step\n",
            "Epoch 3/3\n",
            "469/469 - 67s - loss: 0.0250 - accuracy: 0.9924 - val_loss: 0.0367 - val_accuracy: 0.9883 - 67s/epoch - 143ms/step\n"
          ]
        }
      ],
      "source": [
        "history2 = model2.fit(X_train, y_train, epochs=3, batch_size=128,\n",
        "                      validation_data=(X_test, y_test), verbose=2)\n"
      ]
    },
    {
      "cell_type": "markdown",
      "metadata": {
        "id": "cwBSBvkAsaSt"
      },
      "source": [
        "# BATCH SIZE - 32"
      ]
    },
    {
      "cell_type": "code",
      "execution_count": null,
      "metadata": {
        "colab": {
          "base_uri": "https://localhost:8080/"
        },
        "id": "qDJRZltWsVHc",
        "outputId": "b0f0fa82-4d22-4c01-a21f-388247ac19fa"
      },
      "outputs": [
        {
          "name": "stdout",
          "output_type": "stream",
          "text": [
            "Epoch 1/5\n",
            "1875/1875 [==============================] - 87s 45ms/step - loss: 0.1046 - accuracy: 0.9687 - val_loss: 0.0424 - val_accuracy: 0.9867\n",
            "Epoch 2/5\n",
            "1875/1875 [==============================] - 85s 45ms/step - loss: 0.0450 - accuracy: 0.9860 - val_loss: 0.0485 - val_accuracy: 0.9838\n",
            "Epoch 3/5\n",
            "1875/1875 [==============================] - 80s 43ms/step - loss: 0.0321 - accuracy: 0.9896 - val_loss: 0.0346 - val_accuracy: 0.9887\n",
            "Epoch 4/5\n",
            "1875/1875 [==============================] - 81s 43ms/step - loss: 0.0256 - accuracy: 0.9921 - val_loss: 0.0264 - val_accuracy: 0.9911\n",
            "Epoch 5/5\n",
            "1875/1875 [==============================] - 84s 45ms/step - loss: 0.0221 - accuracy: 0.9930 - val_loss: 0.0385 - val_accuracy: 0.9884\n"
          ]
        },
        {
          "data": {
            "text/plain": [
              "<keras.src.callbacks.History at 0x7da75497fa90>"
            ]
          },
          "execution_count": 8,
          "metadata": {},
          "output_type": "execute_result"
        }
      ],
      "source": [
        "model.fit(X_train, y_train, epochs=5, batch_size=32, validation_data=(X_test, y_test))"
      ]
    },
    {
      "cell_type": "code",
      "execution_count": null,
      "metadata": {
        "colab": {
          "base_uri": "https://localhost:8080/"
        },
        "id": "qV_cr-ZxsqOd",
        "outputId": "333bff79-d9b6-42b4-b5b8-4adfd64d0f65"
      },
      "outputs": [
        {
          "name": "stdout",
          "output_type": "stream",
          "text": [
            "313/313 [==============================] - 4s 12ms/step - loss: 0.0385 - accuracy: 0.9884\n",
            "Test accuracy: 0.9883999824523926\n"
          ]
        }
      ],
      "source": [
        "test_loss, test_acc = model.evaluate(X_test, y_test)\n",
        "print(\"Test accuracy:\", test_acc)"
      ]
    },
    {
      "cell_type": "markdown",
      "metadata": {
        "id": "L5fgsZ5Usy5Y"
      },
      "source": [
        "# BATCH SIZE - 64"
      ]
    },
    {
      "cell_type": "code",
      "execution_count": null,
      "metadata": {
        "colab": {
          "base_uri": "https://localhost:8080/"
        },
        "id": "hIf-7TAQs0QT",
        "outputId": "1ae5373e-cd87-4ebf-ed24-c31ab29a0210"
      },
      "outputs": [
        {
          "name": "stdout",
          "output_type": "stream",
          "text": [
            "Epoch 1/5\n",
            "938/938 [==============================] - 80s 84ms/step - loss: 0.0084 - accuracy: 0.9974 - val_loss: 0.0235 - val_accuracy: 0.9924\n",
            "Epoch 2/5\n",
            "938/938 [==============================] - 73s 78ms/step - loss: 0.0046 - accuracy: 0.9987 - val_loss: 0.0224 - val_accuracy: 0.9937\n",
            "Epoch 3/5\n",
            "938/938 [==============================] - 76s 82ms/step - loss: 0.0064 - accuracy: 0.9980 - val_loss: 0.0304 - val_accuracy: 0.9910\n",
            "Epoch 4/5\n",
            "938/938 [==============================] - 77s 82ms/step - loss: 0.0069 - accuracy: 0.9979 - val_loss: 0.0270 - val_accuracy: 0.9927\n",
            "Epoch 5/5\n",
            "938/938 [==============================] - 77s 82ms/step - loss: 0.0048 - accuracy: 0.9985 - val_loss: 0.0300 - val_accuracy: 0.9916\n"
          ]
        },
        {
          "data": {
            "text/plain": [
              "<keras.src.callbacks.History at 0x7da7342dcfa0>"
            ]
          },
          "execution_count": 10,
          "metadata": {},
          "output_type": "execute_result"
        }
      ],
      "source": [
        "model.fit(X_train, y_train, epochs=5, batch_size=64, validation_data=(X_test, y_test))\n"
      ]
    },
    {
      "cell_type": "code",
      "execution_count": null,
      "metadata": {
        "colab": {
          "base_uri": "https://localhost:8080/"
        },
        "id": "4W96n8lSs2b0",
        "outputId": "344123aa-c130-41f3-ac81-6ac54341d268"
      },
      "outputs": [
        {
          "name": "stdout",
          "output_type": "stream",
          "text": [
            "313/313 [==============================] - 4s 14ms/step - loss: 0.0300 - accuracy: 0.9916\n",
            "Test accuracy: 0.991599977016449\n"
          ]
        }
      ],
      "source": [
        "test_loss, test_acc = model.evaluate(X_test, y_test)\n",
        "print(\"Test accuracy:\", test_acc)"
      ]
    },
    {
      "cell_type": "markdown",
      "metadata": {
        "id": "xQyPsOU-s8FL"
      },
      "source": [
        "# BATCH SIZE - 128"
      ]
    },
    {
      "cell_type": "code",
      "execution_count": null,
      "metadata": {
        "colab": {
          "base_uri": "https://localhost:8080/"
        },
        "id": "OKGWNwAzs-gg",
        "outputId": "98761a32-f2ce-4be3-eb04-61005f1df583"
      },
      "outputs": [
        {
          "name": "stdout",
          "output_type": "stream",
          "text": [
            "Epoch 1/5\n",
            "469/469 [==============================] - 70s 150ms/step - loss: 0.0015 - accuracy: 0.9996 - val_loss: 0.0245 - val_accuracy: 0.9939\n",
            "Epoch 2/5\n",
            "469/469 [==============================] - 71s 152ms/step - loss: 6.3726e-04 - accuracy: 0.9998 - val_loss: 0.0238 - val_accuracy: 0.9940\n",
            "Epoch 3/5\n",
            "469/469 [==============================] - 72s 154ms/step - loss: 2.7737e-04 - accuracy: 1.0000 - val_loss: 0.0245 - val_accuracy: 0.9940\n",
            "Epoch 4/5\n",
            "469/469 [==============================] - 73s 156ms/step - loss: 2.0158e-04 - accuracy: 1.0000 - val_loss: 0.0230 - val_accuracy: 0.9942\n",
            "Epoch 5/5\n",
            "469/469 [==============================] - 70s 149ms/step - loss: 1.3983e-04 - accuracy: 1.0000 - val_loss: 0.0234 - val_accuracy: 0.9947\n"
          ]
        },
        {
          "data": {
            "text/plain": [
              "<keras.src.callbacks.History at 0x7da735859ff0>"
            ]
          },
          "execution_count": 12,
          "metadata": {},
          "output_type": "execute_result"
        }
      ],
      "source": [
        "model.fit(X_train, y_train, epochs=5, batch_size=128, validation_data=(X_test, y_test))"
      ]
    },
    {
      "cell_type": "code",
      "execution_count": null,
      "metadata": {
        "colab": {
          "base_uri": "https://localhost:8080/"
        },
        "id": "pIDZxDpctDB1",
        "outputId": "123499b1-f347-434a-86b8-10b9e4d9d118"
      },
      "outputs": [
        {
          "name": "stdout",
          "output_type": "stream",
          "text": [
            "313/313 [==============================] - 5s 14ms/step - loss: 0.0234 - accuracy: 0.9947\n",
            "Test accuracy: 0.994700014591217\n"
          ]
        }
      ],
      "source": [
        "test_loss, test_acc = model.evaluate(X_test, y_test)\n",
        "print(\"Test accuracy:\", test_acc)"
      ]
    },
    {
      "cell_type": "markdown",
      "metadata": {
        "id": "_tFkYjO0tGHj"
      },
      "source": [
        "# BATCH SIZE - 256"
      ]
    },
    {
      "cell_type": "code",
      "execution_count": null,
      "metadata": {
        "colab": {
          "base_uri": "https://localhost:8080/"
        },
        "id": "vPsJ7tcptIXO",
        "outputId": "200cd203-28e9-4f99-dcb7-7c0cfa62d587"
      },
      "outputs": [
        {
          "name": "stdout",
          "output_type": "stream",
          "text": [
            "Epoch 1/5\n",
            "235/235 [==============================] - 72s 308ms/step - loss: 7.0096e-05 - accuracy: 1.0000 - val_loss: 0.0238 - val_accuracy: 0.9944\n",
            "Epoch 2/5\n",
            "235/235 [==============================] - 71s 304ms/step - loss: 6.3991e-05 - accuracy: 1.0000 - val_loss: 0.0242 - val_accuracy: 0.9944\n",
            "Epoch 3/5\n",
            "235/235 [==============================] - 73s 312ms/step - loss: 5.7032e-05 - accuracy: 1.0000 - val_loss: 0.0242 - val_accuracy: 0.9945\n",
            "Epoch 4/5\n",
            "235/235 [==============================] - 75s 318ms/step - loss: 5.2364e-05 - accuracy: 1.0000 - val_loss: 0.0241 - val_accuracy: 0.9944\n",
            "Epoch 5/5\n",
            "235/235 [==============================] - 78s 328ms/step - loss: 4.3433e-05 - accuracy: 1.0000 - val_loss: 0.0242 - val_accuracy: 0.9946\n"
          ]
        },
        {
          "data": {
            "text/plain": [
              "<keras.src.callbacks.History at 0x7da7358315a0>"
            ]
          },
          "execution_count": 14,
          "metadata": {},
          "output_type": "execute_result"
        }
      ],
      "source": [
        "model.fit(X_train, y_train, epochs=5, batch_size=256, validation_data=(X_test, y_test))"
      ]
    },
    {
      "cell_type": "code",
      "execution_count": null,
      "metadata": {
        "colab": {
          "base_uri": "https://localhost:8080/"
        },
        "id": "om2adSjstLzF",
        "outputId": "bd669a9e-680c-4524-d149-1cfc29ad4920"
      },
      "outputs": [
        {
          "name": "stdout",
          "output_type": "stream",
          "text": [
            "313/313 [==============================] - 6s 18ms/step - loss: 0.0247 - accuracy: 0.9947\n",
            "Test accuracy: 0.994700014591217\n"
          ]
        }
      ],
      "source": [
        "test_loss, test_acc = model.evaluate(X_test, y_test)\n",
        "print(\"Test accuracy:\", test_acc)"
      ]
    },
    {
      "cell_type": "markdown",
      "metadata": {
        "id": "rezNRDidtO5M"
      },
      "source": [
        "# BATCH SIZE - 512"
      ]
    },
    {
      "cell_type": "code",
      "execution_count": null,
      "metadata": {
        "colab": {
          "base_uri": "https://localhost:8080/"
        },
        "id": "3lzln1hWtRnq",
        "outputId": "f85eaa58-7e44-4841-b23c-5165d990e76b"
      },
      "outputs": [
        {
          "name": "stdout",
          "output_type": "stream",
          "text": [
            "Epoch 1/5\n",
            "118/118 [==============================] - 89s 759ms/step - loss: 3.4615e-05 - accuracy: 1.0000 - val_loss: 0.0243 - val_accuracy: 0.9946\n",
            "Epoch 2/5\n",
            "118/118 [==============================] - 94s 794ms/step - loss: 3.2118e-05 - accuracy: 1.0000 - val_loss: 0.0245 - val_accuracy: 0.9947\n",
            "Epoch 3/5\n",
            "118/118 [==============================] - 83s 701ms/step - loss: 3.0334e-05 - accuracy: 1.0000 - val_loss: 0.0245 - val_accuracy: 0.9947\n",
            "Epoch 4/5\n",
            "118/118 [==============================] - 78s 657ms/step - loss: 2.8764e-05 - accuracy: 1.0000 - val_loss: 0.0247 - val_accuracy: 0.9947\n",
            "Epoch 5/5\n",
            "118/118 [==============================] - 76s 646ms/step - loss: 2.7454e-05 - accuracy: 1.0000 - val_loss: 0.0247 - val_accuracy: 0.9947\n"
          ]
        },
        {
          "data": {
            "text/plain": [
              "<keras.src.callbacks.History at 0x7da73589b760>"
            ]
          },
          "execution_count": 15,
          "metadata": {},
          "output_type": "execute_result"
        }
      ],
      "source": [
        "model.fit(X_train, y_train, epochs=5, batch_size=512, validation_data=(X_test, y_test))"
      ]
    },
    {
      "cell_type": "code",
      "execution_count": null,
      "metadata": {
        "colab": {
          "base_uri": "https://localhost:8080/"
        },
        "id": "jwfj-6WStWia",
        "outputId": "02b035ee-b889-47b6-c9ed-258f3970722e"
      },
      "outputs": [
        {
          "name": "stdout",
          "output_type": "stream",
          "text": [
            "313/313 [==============================] - 4s 12ms/step - loss: 0.0247 - accuracy: 0.9947\n",
            "Test accuracy: 0.994700014591217\n"
          ]
        }
      ],
      "source": [
        "test_loss, test_acc = model.evaluate(X_test, y_test)\n",
        "print(\"Test accuracy:\", test_acc)"
      ]
    },
    {
      "cell_type": "markdown",
      "source": [
        "The evaluation of different batch sizes on the model's performance shows a clear trend in accuracy and loss metrics.\n",
        "\n",
        "1. **Batch Size 32**: The model achieved an accuracy of 0.9884 with a loss of 0.0385. While this is a strong performance, it is the lowest among the tested batch sizes.\n",
        "\n",
        "2. **Batch Size 64**: Increasing the batch size to 64 resulted in an improvement, with an accuracy of 0.9916 and a reduced loss of 0.0300. This indicates better model generalization and performance.\n",
        "\n",
        "3. **Batch Size 128**: Further increasing the batch size to 128 led to a significant improvement, with an accuracy of 0.9947 and a loss of 0.0234. This suggests that the model benefits from a larger batch size, improving its predictive power.\n",
        "\n",
        "4. **Batch Size 256**: The performance remains consistent with a batch size of 256, maintaining an accuracy of 0.9947 and a loss of 0.0247. This implies that the model's performance has plateaued at this batch size.\n",
        "\n",
        "5. **Batch Size 512**: Similarly, with a batch size of 512, the model maintains its accuracy at 0.9947 with a loss of 0.0247, indicating that further increasing the batch size does not result in additional performance gains.\n",
        "\n",
        "In conclusion, the model's performance improves with an increasing batch size up to 128, after which it plateaus. The optimal batch size for this model appears to be 128, providing the highest accuracy with the lowest loss. Further increases in batch size do not yield significant improvements, suggesting a point of diminishing returns.\n",
        "For this specific model, using a batch size of 128 is recommended to achieve optimal performance. Further increases in batch size do not yield significant performance benefits, highlighting the importance of balancing batch size with computational efficiency."
      ],
      "metadata": {
        "id": "RgxzIVNa5LTd"
      }
    }
  ],
  "metadata": {
    "colab": {
      "provenance": [],
      "authorship_tag": "ABX9TyM0U1ffZDHn89qL9Q9Kx9Cn",
      "include_colab_link": true
    },
    "kernelspec": {
      "display_name": "Python 3",
      "name": "python3"
    },
    "language_info": {
      "name": "python"
    }
  },
  "nbformat": 4,
  "nbformat_minor": 0
}